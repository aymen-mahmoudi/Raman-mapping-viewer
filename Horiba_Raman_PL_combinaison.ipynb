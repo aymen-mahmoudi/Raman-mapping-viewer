{
 "cells": [
  {
   "cell_type": "code",
   "execution_count": null,
   "id": "701f3435",
   "metadata": {},
   "outputs": [],
   "source": [
    "from PL_Horiba import*"
   ]
  },
  {
   "cell_type": "code",
   "execution_count": null,
   "id": "1078ade7",
   "metadata": {},
   "outputs": [],
   "source": [
    "path1 = \"\"\n",
    "path2 = \"\"\n",
    "w1=.5; w2=1; op='-'\n",
    "colormap = sns.color_palette(\"YlOrBr_r\",100)\n",
    "title = 'Max Height (counts)'\n",
    "dpi = 100\n",
    "triple_fig=True\n",
    "\n",
    "Horiba_plot_combinaison(path1,path2,w1,w2,op,colormap,dpi,triple_fig)"
   ]
  }
 ],
 "metadata": {
  "kernelspec": {
   "display_name": "Python 3",
   "language": "python",
   "name": "python3"
  },
  "language_info": {
   "codemirror_mode": {
    "name": "ipython",
    "version": 3
   },
   "file_extension": ".py",
   "mimetype": "text/x-python",
   "name": "python",
   "nbconvert_exporter": "python",
   "pygments_lexer": "ipython3",
   "version": "3.8.8"
  }
 },
 "nbformat": 4,
 "nbformat_minor": 5
}
