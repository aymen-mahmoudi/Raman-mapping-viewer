{
 "cells": [
  {
   "cell_type": "code",
   "execution_count": null,
   "id": "f046b554",
   "metadata": {},
   "outputs": [],
   "source": [
    "from PL_Horiba import*\n",
    "import seaborn as sns"
   ]
  },
  {
   "cell_type": "code",
   "execution_count": null,
   "id": "2064ccaa",
   "metadata": {},
   "outputs": [],
   "source": [
    "path = \"\"\n",
    "colormap = sns.color_palette(\"YlOrBr_r\",100)\n",
    "title = 'Max Height (counts)'\n",
    "dpi = 100\n",
    "binary_mode = False\n",
    "threshold = 250\n",
    "\n",
    "Horiba_Raman_PL_plot(path,colormap,dpi,title,binary_mode,threshold)"
   ]
  }
 ],
 "metadata": {
  "kernelspec": {
   "display_name": "Python 3",
   "language": "python",
   "name": "python3"
  },
  "language_info": {
   "codemirror_mode": {
    "name": "ipython",
    "version": 3
   },
   "file_extension": ".py",
   "mimetype": "text/x-python",
   "name": "python",
   "nbconvert_exporter": "python",
   "pygments_lexer": "ipython3",
   "version": "3.8.8"
  }
 },
 "nbformat": 4,
 "nbformat_minor": 5
}
